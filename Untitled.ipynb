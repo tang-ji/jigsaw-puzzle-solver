{
 "cells": [
  {
   "cell_type": "code",
   "execution_count": 1,
   "metadata": {},
   "outputs": [],
   "source": [
    "import numpy as np\n",
    "import cv2\n",
    "from matplotlib import pyplot as plt\n",
    "from glob import glob"
   ]
  },
  {
   "cell_type": "code",
   "execution_count": 137,
   "metadata": {},
   "outputs": [],
   "source": [
    "imgs = glob(\"input/*.jpg\")\n",
    "\n",
    "# Blue color in BGR\n",
    "red = (255, 0, 0)\n",
    "blue = (0,0,255)\n",
    "green = (0, 255, 0)\n",
    "\n",
    "def filter(img):\n",
    "    RED, GREEN, BLUE = (2, 1, 0)\n",
    "\n",
    "    reds = img[:, :, RED]\n",
    "    greens = img[:, :, GREEN]\n",
    "    blues = img[:, :, BLUE]\n",
    "\n",
    "    mask = (greens < 35) | (reds > greens) | (blues > greens)\n",
    "    return mask\n",
    "\n",
    "def blur(img, filter_size=9):\n",
    "    return cv2.GaussianBlur(img, (filter_size, filter_size), 0)"
   ]
  },
  {
   "cell_type": "code",
   "execution_count": 157,
   "metadata": {},
   "outputs": [],
   "source": [
    "def annotate(img_path, gray_threshold=120, connectivity=4, margin=5):\n",
    "    img = cv2.imread(img_path)\n",
    "    blurred = blur(img)\n",
    "\n",
    "    gray   = cv2.cvtColor(blurred, cv2.COLOR_BGR2GRAY)\n",
    "    thresh = cv2.threshold(gray, gray_threshold, 255, cv2.THRESH_BINARY)[1]\n",
    "\n",
    "    output = cv2.connectedComponentsWithStats(thresh, connectivity, cv2.CV_32S)\n",
    "\n",
    "    num_labels = output[0]\n",
    "    labels = output[1]\n",
    "    stats = output[2]\n",
    "    centroids = output[3]\n",
    "\n",
    "    unique, counts = np.unique(labels, return_counts=True) #is sorted\n",
    "    unique = unique[1:]\n",
    "    counts = counts[1:]\n",
    "\n",
    "    q75, q25 = np.percentile(counts, [65 ,35])\n",
    "    iqr = q75 - q25\n",
    "    low = q25 - 1.5*iqr\n",
    "    hi = q75 + 1.5*iqr\n",
    "\n",
    "    clean_labels = []\n",
    "    clean_counts = []\n",
    "    for i in range(len(counts)):\n",
    "        if low < counts[i] < hi:\n",
    "            clean_labels.append(unique[i])\n",
    "            clean_counts.append(counts[i])\n",
    "    boxes = []\n",
    "    for i in range(1,num_labels):\n",
    "        if i not in clean_labels:\n",
    "            continue\n",
    "        x, y = stats[i,cv2.CC_STAT_LEFT], stats[i,cv2.CC_STAT_TOP]\n",
    "        w, h = stats[i,cv2.CC_STAT_WIDTH], stats[i,cv2.CC_STAT_HEIGHT]\n",
    "        box = ((x-(h-w)/2-margin,y-margin), (x+h+margin-(h-w)/2, y+h+margin)) if h > w else \\\n",
    "            ((x - margin, y - margin - (w-h) / 2), (x + w + margin, y + w + margin - (w-h) / 2))\n",
    "        boxes.append(box)\n",
    "        \n",
    "    for box in boxes:\n",
    "        img = cv2.rectangle(img, tuple([int(x) for x in box[0]]), tuple([int(x) for x in box[1]]), thickness=2, color=[255,0,0])\n",
    "    return img, boxes"
   ]
  },
  {
   "cell_type": "code",
   "execution_count": 158,
   "metadata": {},
   "outputs": [],
   "source": [
    "img, boxes = annotate(imgs[1], gray_threshold=160, connectivity=4, margin=160)"
   ]
  },
  {
   "cell_type": "code",
   "execution_count": 159,
   "metadata": {},
   "outputs": [
    {
     "data": {
      "text/plain": [
       "-1"
      ]
     },
     "execution_count": 159,
     "metadata": {},
     "output_type": "execute_result"
    }
   ],
   "source": [
    "cv2.namedWindow(\"image\")\n",
    "cv2.imshow('image', img)\n",
    "cv2.waitKey(0) # close window when a key press is detected\n",
    "cv2.destroyWindow('image')\n",
    "cv2.waitKey(1)"
   ]
  },
  {
   "cell_type": "code",
   "execution_count": null,
   "metadata": {},
   "outputs": [],
   "source": [
    "python3 demo.py --image input/IMG_3852.jpg --model models/final_checkpoint_NYU.pth --boundary --outpath output/"
   ]
  }
 ],
 "metadata": {
  "kernelspec": {
   "display_name": "Python 3",
   "language": "python",
   "name": "python3"
  },
  "language_info": {
   "codemirror_mode": {
    "name": "ipython",
    "version": 3
   },
   "file_extension": ".py",
   "mimetype": "text/x-python",
   "name": "python",
   "nbconvert_exporter": "python",
   "pygments_lexer": "ipython3",
   "version": "3.8.5"
  }
 },
 "nbformat": 4,
 "nbformat_minor": 4
}
